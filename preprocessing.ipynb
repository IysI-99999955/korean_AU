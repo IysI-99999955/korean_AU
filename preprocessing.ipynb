{
 "cells": [
  {
   "cell_type": "code",
   "execution_count": 2,
   "metadata": {},
   "outputs": [],
   "source": [
    "import json\n",
    "import csv\n",
    "\n",
    "# Specify the input and output file paths\n",
    "input_file = 'NIKL_AU_2023_COMPETITION_v1.0/nikluge-au-2022-test.jsonl'\n",
    "output_file = 'NIKL_AU_2023_COMPETITION_v1.0/nikluge-au-2022-test.csv'\n",
    "\n",
    "data = []\n",
    "\n",
    "# Read the JSONL file\n",
    "with open(input_file, 'r', encoding='utf-8') as f:\n",
    "    for line in f:\n",
    "        # Remove any leading/trailing whitespace\n",
    "        line = line.strip()\n",
    "        if not line:\n",
    "            continue  # Skip empty lines\n",
    "        # Parse the JSON object\n",
    "        record = json.loads(line)\n",
    "        data.append(record)\n",
    "\n",
    "# Write data to a CSV file\n",
    "with open(output_file, 'w', newline='', encoding='utf-8') as csvfile:\n",
    "    # Define the CSV column headers\n",
    "    fieldnames = ['id', 'input', 'output']\n",
    "    writer = csv.DictWriter(csvfile, fieldnames=fieldnames)\n",
    "\n",
    "    # Write the header row\n",
    "    writer.writeheader()\n",
    "\n",
    "    # Write each JSON object as a row in the CSV file\n",
    "    for record in data:\n",
    "        writer.writerow(record)\n"
   ]
  },
  {
   "cell_type": "code",
   "execution_count": null,
   "metadata": {},
   "outputs": [],
   "source": []
  }
 ],
 "metadata": {
  "kernelspec": {
   "display_name": "Python 3.11.8 64-bit ('LangChain')",
   "language": "python",
   "name": "python3"
  },
  "language_info": {
   "codemirror_mode": {
    "name": "ipython",
    "version": 3
   },
   "file_extension": ".py",
   "mimetype": "text/x-python",
   "name": "python",
   "nbconvert_exporter": "python",
   "pygments_lexer": "ipython3",
   "version": "3.11.8"
  },
  "orig_nbformat": 4,
  "vscode": {
   "interpreter": {
    "hash": "4bc7dc09590517eecfa2a28a7b2dd5f5c3ba87a64a9c19de35f87eb2de2b7df0"
   }
  }
 },
 "nbformat": 4,
 "nbformat_minor": 2
}
