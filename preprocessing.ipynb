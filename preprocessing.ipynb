{
 "cells": [
  {
   "cell_type": "markdown",
   "metadata": {},
   "source": [
    "### jsonl -> csv"
   ]
  },
  {
   "cell_type": "code",
   "execution_count": 3,
   "metadata": {},
   "outputs": [],
   "source": [
    "import json\n",
    "import csv\n",
    "\n",
    "# Specify the input and output file paths\n",
    "input_file = 'NIKL_AU_2023_COMPETITION_v1.0/nikluge-au-2022-test.jsonl'\n",
    "output_file = 'NIKL_AU_2023_COMPETITION_v1.0/test.csv'\n",
    "\n",
    "data = []\n",
    "\n",
    "# Read the JSONL file\n",
    "with open(input_file, 'r', encoding='utf-8') as f:\n",
    "    for line in f:\n",
    "        # Remove any leading/trailing whitespace\n",
    "        line = line.strip()\n",
    "        if not line:\n",
    "            continue  # Skip empty lines\n",
    "        # Parse the JSON object\n",
    "        record = json.loads(line)\n",
    "        data.append(record)\n",
    "\n",
    "# Write data to a CSV file\n",
    "with open(output_file, 'w', newline='', encoding='utf-8') as csvfile:\n",
    "    # Define the CSV column headers\n",
    "    fieldnames = ['id', 'input', 'output']\n",
    "    writer = csv.DictWriter(csvfile, fieldnames=fieldnames)\n",
    "\n",
    "    # Write the header row\n",
    "    writer.writeheader()\n",
    "\n",
    "    # Write each JSON object as a row in the CSV file\n",
    "    for record in data:\n",
    "        writer.writerow(record)\n"
   ]
  },
  {
   "cell_type": "markdown",
   "metadata": {},
   "source": [
    "### csv 를 padnas 로 읽어오기"
   ]
  },
  {
   "cell_type": "code",
   "execution_count": 1,
   "metadata": {},
   "outputs": [],
   "source": [
    "# 데이터 읽어와보기\n",
    "import pandas as pd\n",
    "train_df = pd.read_csv(\"NIKL_AU_2023_COMPETITION_v1.0/train.csv\")"
   ]
  },
  {
   "cell_type": "code",
   "execution_count": 3,
   "metadata": {},
   "outputs": [
    {
     "data": {
      "text/html": [
       "<div>\n",
       "<style scoped>\n",
       "    .dataframe tbody tr th:only-of-type {\n",
       "        vertical-align: middle;\n",
       "    }\n",
       "\n",
       "    .dataframe tbody tr th {\n",
       "        vertical-align: top;\n",
       "    }\n",
       "\n",
       "    .dataframe thead th {\n",
       "        text-align: right;\n",
       "    }\n",
       "</style>\n",
       "<table border=\"1\" class=\"dataframe\">\n",
       "  <thead>\n",
       "    <tr style=\"text-align: right;\">\n",
       "      <th></th>\n",
       "      <th>id</th>\n",
       "      <th>input</th>\n",
       "      <th>output</th>\n",
       "    </tr>\n",
       "  </thead>\n",
       "  <tbody>\n",
       "    <tr>\n",
       "      <th>0</th>\n",
       "      <td>nikluge-au-2022-train-000001</td>\n",
       "      <td>보여주면서 왜 엿보냐고 비난 하는것도 웃기지만. 훔쳐 보면서 왜 보여주냐고 하는 사...</td>\n",
       "      <td>1</td>\n",
       "    </tr>\n",
       "    <tr>\n",
       "      <th>1</th>\n",
       "      <td>nikluge-au-2022-train-000002</td>\n",
       "      <td>왜 개인 사생활을 방송으로 보여주고 싶은지 이해도 안가지만 &amp;location&amp;식 프...</td>\n",
       "      <td>1</td>\n",
       "    </tr>\n",
       "    <tr>\n",
       "      <th>2</th>\n",
       "      <td>nikluge-au-2022-train-000003</td>\n",
       "      <td>이런 쓰레기같은 새끼가 아무렇지 않게 멀쩡히 돌아다닐 생각을 하니까 진짜 너무 소름...</td>\n",
       "      <td>1</td>\n",
       "    </tr>\n",
       "  </tbody>\n",
       "</table>\n",
       "</div>"
      ],
      "text/plain": [
       "                             id  \\\n",
       "0  nikluge-au-2022-train-000001   \n",
       "1  nikluge-au-2022-train-000002   \n",
       "2  nikluge-au-2022-train-000003   \n",
       "\n",
       "                                               input  output  \n",
       "0  보여주면서 왜 엿보냐고 비난 하는것도 웃기지만. 훔쳐 보면서 왜 보여주냐고 하는 사...       1  \n",
       "1  왜 개인 사생활을 방송으로 보여주고 싶은지 이해도 안가지만 &location&식 프...       1  \n",
       "2  이런 쓰레기같은 새끼가 아무렇지 않게 멀쩡히 돌아다닐 생각을 하니까 진짜 너무 소름...       1  "
      ]
     },
     "execution_count": 3,
     "metadata": {},
     "output_type": "execute_result"
    }
   ],
   "source": [
    "train_df.head(3)"
   ]
  },
  {
   "cell_type": "markdown",
   "metadata": {},
   "source": [
    "### input 데이터에서 비식별화 토큰 찾기"
   ]
  },
  {
   "cell_type": "code",
   "execution_count": 31,
   "metadata": {},
   "outputs": [
    {
     "data": {
      "text/plain": [
       "'외교 경제 국방등 망쳤으면 조용히 &location&대통령의 간첩처분 받아라!'"
      ]
     },
     "execution_count": 31,
     "metadata": {},
     "output_type": "execute_result"
    }
   ],
   "source": [
    "# \"&\" 포함하는 것들\n",
    "len(train_df[train_df['input'].str.contains('&')]['input']) # 1783개\n",
    "train_df[train_df['input'].str.contains('&')]['input'].iloc[11]"
   ]
  },
  {
   "cell_type": "markdown",
   "metadata": {},
   "source": [
    "- 하나씩 1783 개 다보긴 싫으니까 저 3가지 외에 다른게 있는 경우로 보자!"
   ]
  },
  {
   "cell_type": "code",
   "execution_count": 76,
   "metadata": {},
   "outputs": [
    {
     "data": {
      "text/plain": [
       "2"
      ]
     },
     "execution_count": 76,
     "metadata": {},
     "output_type": "execute_result"
    }
   ],
   "source": [
    "filtered_train_df = train_df[train_df['input'].str.contains('&')]['input']\n",
    "refiltered_train_df = filtered_train_df[filtered_train_df.apply(lambda x: all(word not in x for word in ('&location&','&affiliation&','&name&','&company&','&brand&','&art&','&other&','&nama&','&affifiation&','&online-account&','&name','&compnay&','&anme&','& name&','&address&','&tel-num&','&naem&')))]\n",
    "len(refiltered_train_df)"
   ]
  },
  {
   "cell_type": "markdown",
   "metadata": {},
   "source": [
    "> 정리중 \n",
    "- &location& = 지역/지명, &affiliation& = 단체 , &name& = 이름 , &company& = 회사 , &brand& = 브랜드\n",
    "- &art& = 작품이름 , &online-account& = 플랫폼?, &address& = 주소, '&tel-num&' = 핸드폰 번호, &other& = 분류 외\n",
    "\n",
    "- 휴먼에러?? : &affifiation& , &nama& , &name , &compnay& , &anme&  , & name& , &naem&"
   ]
  },
  {
   "cell_type": "code",
   "execution_count": 78,
   "metadata": {},
   "outputs": [
    {
     "data": {
      "text/plain": [
       "'어린여캐&늙은남캐 로맨틱한 연성도 많았고 ㄱ 애기들한테 요망한 로리라고 매도하는것도 싫었고'"
      ]
     },
     "execution_count": 78,
     "metadata": {},
     "output_type": "execute_result"
    }
   ],
   "source": [
    "refiltered_train_df.iloc[1]"
   ]
  },
  {
   "cell_type": "code",
   "execution_count": 60,
   "metadata": {},
   "outputs": [
    {
     "data": {
      "text/plain": [
       "numpy.ndarray"
      ]
     },
     "execution_count": 60,
     "metadata": {},
     "output_type": "execute_result"
    }
   ],
   "source": [
    "type(train_df.output.values)"
   ]
  },
  {
   "cell_type": "markdown",
   "metadata": {},
   "source": [
    "### 라벨별 분포"
   ]
  },
  {
   "cell_type": "code",
   "execution_count": 16,
   "metadata": {},
   "outputs": [
    {
     "data": {
      "text/plain": [
       "9794"
      ]
     },
     "execution_count": 16,
     "metadata": {},
     "output_type": "execute_result"
    }
   ],
   "source": [
    "len(train_df[train_df.output==0])"
   ]
  },
  {
   "cell_type": "code",
   "execution_count": 4,
   "metadata": {},
   "outputs": [
    {
     "data": {
      "text/plain": [
       "6786"
      ]
     },
     "execution_count": 4,
     "metadata": {},
     "output_type": "execute_result"
    }
   ],
   "source": [
    "len(train_df[train_df.output==1])"
   ]
  },
  {
   "cell_type": "markdown",
   "metadata": {},
   "source": [
    "### 학습 데이터 살펴보기"
   ]
  },
  {
   "cell_type": "code",
   "execution_count": 15,
   "metadata": {},
   "outputs": [
    {
     "data": {
      "text/plain": [
       "id                 nikluge-au-2022-train-000035\n",
       "input     왕권시대에도 볼수 없던 독재를 &name&정권은 거침 없이 자행 !\n",
       "output                                        1\n",
       "Name: 34, dtype: object"
      ]
     },
     "execution_count": 15,
     "metadata": {},
     "output_type": "execute_result"
    }
   ],
   "source": [
    "train_df[train_df.output==1].loc[34]"
   ]
  },
  {
   "cell_type": "markdown",
   "metadata": {},
   "source": [
    "### 정규표현식으로 비식별화 토큰 (&name&) 같은 거 검색해보기 그리고 special token 처리하기"
   ]
  },
  {
   "cell_type": "markdown",
   "metadata": {},
   "source": [
    "- &name& -> \"&name&\"  -> [32001]\n",
    "- &name& -> & , name , & -> [35, 767, 35]\n",
    "- special token 에 \"&name&\" "
   ]
  },
  {
   "cell_type": "code",
   "execution_count": 26,
   "metadata": {},
   "outputs": [
    {
     "name": "stdout",
     "output_type": "stream",
     "text": [
      "id\n",
      "0000000000000000000000000000000000000000000000000000000000000000000000000000000000000000000000000000\n",
      "0        nikluge-au-2022-train-000001\n",
      "1        nikluge-au-2022-train-000002\n",
      "2        nikluge-au-2022-train-000003\n",
      "3        nikluge-au-2022-train-000004\n",
      "4        nikluge-au-2022-train-000005\n",
      "                     ...             \n",
      "16575    nikluge-au-2022-train-016576\n",
      "16576    nikluge-au-2022-train-016577\n",
      "16577    nikluge-au-2022-train-016578\n",
      "16578    nikluge-au-2022-train-016579\n",
      "16579    nikluge-au-2022-train-016580\n",
      "Name: id, Length: 16580, dtype: object\n",
      "input\n",
      "0000000000000000000000000000000000000000000000000000000000000000000000000000000000000000000000000000\n",
      "0        보여주면서 왜 엿보냐고 비난 하는것도 웃기지만. 훔쳐 보면서 왜 보여주냐고 하는 사...\n",
      "1        왜 개인 사생활을 방송으로 보여주고 싶은지 이해도 안가지만 &location&식 프...\n",
      "2        이런 쓰레기같은 새끼가 아무렇지 않게 멀쩡히 돌아다닐 생각을 하니까 진짜 너무 소름...\n",
      "3                                             인간의 탈을 쓰고...\n",
      "4                              인기글에 짱깨뭐라하니까 댓글로 ㅂㄷㅂㄷ하네요...\n",
      "                               ...                        \n",
      "16575                                           생각만 해도 토쏠릐\n",
      "16576                                                 재수없다\n",
      "16577                                           겜 쫌만 하겠습니다\n",
      "16578                            &name& 오고 학교에서 두번이나 봣음...\n",
      "16579                                               너무 좋아서\n",
      "Name: input, Length: 16580, dtype: object\n",
      "output\n",
      "0000000000000000000000000000000000000000000000000000000000000000000000000000000000000000000000000000\n",
      "0        1\n",
      "1        1\n",
      "2        1\n",
      "3        1\n",
      "4        1\n",
      "        ..\n",
      "16575    1\n",
      "16576    1\n",
      "16577    0\n",
      "16578    0\n",
      "16579    0\n",
      "Name: output, Length: 16580, dtype: int64\n"
     ]
    }
   ],
   "source": [
    "for i, j in train_df.items():\n",
    "    print(i)\n",
    "    print(\"0\"*100)\n",
    "    print(j)"
   ]
  },
  {
   "cell_type": "markdown",
   "metadata": {},
   "source": [
    "### 토크나이저로 한번에 여러개의 문장 배치단위로 토크나이징\n",
    "- 이때 input 은 list 형태로 넣어주셔야 에러가 안납니다."
   ]
  },
  {
   "cell_type": "code",
   "execution_count": 12,
   "metadata": {},
   "outputs": [],
   "source": [
    "from transformers import AutoTokenizer \n",
    "tokenizer = AutoTokenizer.from_pretrained(\"klue/bert-base\")"
   ]
  },
  {
   "cell_type": "code",
   "execution_count": 33,
   "metadata": {},
   "outputs": [
    {
     "name": "stdout",
     "output_type": "stream",
     "text": [
      "<class 'str'>\n",
      "<class 'str'>\n",
      "<class 'str'>\n",
      "<class 'str'>\n",
      "<class 'str'>\n",
      "<class 'numpy.int64'>\n"
     ]
    }
   ],
   "source": [
    "for i,j in train_df.items():\n",
    "    print(type(i[0]))\n",
    "    print(type(j[0]))"
   ]
  },
  {
   "cell_type": "markdown",
   "metadata": {},
   "source": [
    "### 스페셜 토큰으로 추가해보기\n",
    "- docs : https://huggingface.co/docs/transformers/main_classes/tokenizer#transformers.PreTrainedTokenizer.add_special_tokens"
   ]
  },
  {
   "cell_type": "code",
   "execution_count": 79,
   "metadata": {},
   "outputs": [
    {
     "name": "stderr",
     "output_type": "stream",
     "text": [
      "/Users/jo_nyuk/.pyenv/versions/3.11.8/envs/Korean_AU/lib/python3.11/site-packages/tqdm/auto.py:21: TqdmWarning: IProgress not found. Please update jupyter and ipywidgets. See https://ipywidgets.readthedocs.io/en/stable/user_install.html\n",
      "  from .autonotebook import tqdm as notebook_tqdm\n"
     ]
    }
   ],
   "source": [
    "from transformers import AutoTokenizer \n",
    "tokenizer = AutoTokenizer.from_pretrained(\"klue/bert-base\")"
   ]
  },
  {
   "cell_type": "code",
   "execution_count": 81,
   "metadata": {},
   "outputs": [
    {
     "data": {
      "text/plain": [
       "17"
      ]
     },
     "execution_count": 81,
     "metadata": {},
     "output_type": "execute_result"
    }
   ],
   "source": [
    "special_tokens = ['&location&','&affiliation&','&name&','&company&','&brand&','&art&','&other&','&nama&','&affifiation&','&online-account&','&name','&compnay&','&anme&','& name&','&address&','&tel-num&','&naem&']\n",
    "tokenizer.add_special_tokens({'additional_special_tokens':special_tokens})"
   ]
  },
  {
   "cell_type": "code",
   "execution_count": 111,
   "metadata": {},
   "outputs": [
    {
     "name": "stdout",
     "output_type": "stream",
     "text": [
      "추가된 스페셜 토큰: {'unk_token': '[UNK]', 'sep_token': '[SEP]', 'pad_token': '[PAD]', 'cls_token': '[CLS]', 'mask_token': '[MASK]', 'additional_special_tokens': ['&location&', '&affiliation&', '&name&', '&company&', '&brand&', '&art&', '&other&', '&nama&', '&affifiation&', '&online-account&', '&name', '&compnay&', '&anme&', '& name&', '&address&', '&tel-num&', '&naem&']}\n"
     ]
    }
   ],
   "source": [
    "# 추가된 토큰 확인\n",
    "print(\"추가된 스페셜 토큰:\", tokenizer.special_tokens_map)"
   ]
  },
  {
   "cell_type": "code",
   "execution_count": 110,
   "metadata": {},
   "outputs": [
    {
     "name": "stdout",
     "output_type": "stream",
     "text": [
      "[2, 79, 6624, 5148, 10, 3]\n",
      "[CLS] location & [SEP]\n",
      "------------------------------\n",
      "[CLS]\n",
      "------------------------------\n",
      "l\n",
      "------------------------------\n",
      "##oc\n",
      "------------------------------\n",
      "##ation\n",
      "------------------------------\n",
      "&\n",
      "------------------------------\n",
      "[SEP]\n"
     ]
    }
   ],
   "source": [
    "input_text = \"location&\"  # location&\"\n",
    "print(tokenizer.encode(input_text))\n",
    "print(tokenizer.decode(tokenizer.encode(input_text)))\n",
    "for token in tokenizer.encode(input_text):\n",
    "    print(\"-\"*30)\n",
    "    print(tokenizer.decode(token))"
   ]
  },
  {
   "cell_type": "code",
   "execution_count": null,
   "metadata": {},
   "outputs": [],
   "source": []
  }
 ],
 "metadata": {
  "kernelspec": {
   "display_name": "Python 3.11.8 64-bit ('Korean_AU')",
   "language": "python",
   "name": "python3"
  },
  "language_info": {
   "codemirror_mode": {
    "name": "ipython",
    "version": 3
   },
   "file_extension": ".py",
   "mimetype": "text/x-python",
   "name": "python",
   "nbconvert_exporter": "python",
   "pygments_lexer": "ipython3",
   "version": "3.11.8"
  },
  "orig_nbformat": 4,
  "vscode": {
   "interpreter": {
    "hash": "eaea8d2a8fbdf4bfb9ea70a1df9a27927c5e5c715d94613dc7765c41122ef3ab"
   }
  }
 },
 "nbformat": 4,
 "nbformat_minor": 2
}
